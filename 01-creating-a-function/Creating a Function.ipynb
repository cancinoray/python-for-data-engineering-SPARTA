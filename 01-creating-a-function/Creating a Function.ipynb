{
 "cells": [
  {
   "cell_type": "markdown",
   "id": "b6c651c7",
   "metadata": {},
   "source": [
    "### Create a dictionary (entitled 'Capitals') that returns the capital of each of the followning countries when inputted: Indonesia , Philippines, Japan, China, USA ,Russia\"\n"
   ]
  },
  {
   "cell_type": "code",
   "execution_count": 1,
   "id": "a169ac80",
   "metadata": {},
   "outputs": [],
   "source": [
    "Capitals = { \n",
    "            'Indonesia' : 'Jakarta',\n",
    "            'Philippines' : 'Manila',\n",
    "            'Japan' : 'Tokyo',\n",
    "            'China' : 'Beijing',\n",
    "            'USA' : 'Washington, D.C.',\n",
    "            'Russia': 'Moscow'\n",
    "}"
   ]
  },
  {
   "cell_type": "code",
   "execution_count": 2,
   "id": "22532bfb",
   "metadata": {},
   "outputs": [
    {
     "name": "stdout",
     "output_type": "stream",
     "text": [
      "Enter the Country:USA\n",
      "The Capital of  USA is Washington, D.C.\n"
     ]
    }
   ],
   "source": [
    "userCountry = input('Enter the Country:')\n",
    "\n",
    "print ('The Capital of ' ,userCountry , 'is', Capitals[userCountry])"
   ]
  },
  {
   "cell_type": "markdown",
   "id": "ec37a460",
   "metadata": {},
   "source": [
    "### Create a function that determines whether the sum of two input numbers is even or odd"
   ]
  },
  {
   "cell_type": "code",
   "execution_count": 3,
   "id": "f6e8d8f4",
   "metadata": {},
   "outputs": [],
   "source": [
    "def num_id (firstNum , secNum):\n",
    "    if (x + y) % 2 == 0 :\n",
    "        print('The sum of the two number is Even')\n",
    "    else:\n",
    "        print('The sum of the two number is Odd')"
   ]
  },
  {
   "cell_type": "code",
   "execution_count": 16,
   "id": "78076574",
   "metadata": {},
   "outputs": [
    {
     "name": "stdout",
     "output_type": "stream",
     "text": [
      "Enter the first number:9\n",
      "Enter the second number:8\n",
      "The sum of the two number is Odd\n"
     ]
    }
   ],
   "source": [
    "firstNum = int(input('Enter the first number:'))\n",
    "secNum = int(input('Enter the second number:'))\n",
    "\n",
    "num_id(firstNum , secNum)"
   ]
  },
  {
   "cell_type": "markdown",
   "id": "165f8e88",
   "metadata": {},
   "source": [
    "### Create a function that converts centimeters to meters"
   ]
  },
  {
   "cell_type": "code",
   "execution_count": 17,
   "id": "a0933b08",
   "metadata": {},
   "outputs": [],
   "source": [
    "def convert(x):   #Creating function for x in cm\n",
    "    print ('The result of conversion is' , (x/100) , 'm')"
   ]
  },
  {
   "cell_type": "code",
   "execution_count": 18,
   "id": "c6e16558",
   "metadata": {},
   "outputs": [
    {
     "name": "stdout",
     "output_type": "stream",
     "text": [
      "Enter the number you want to convert: (cm -> m): 9000\n",
      "The result of conversion is 90.0 m\n"
     ]
    }
   ],
   "source": [
    "x = int(input('Enter the number you want to convert: (cm -> m): ' ))\n",
    "\n",
    "convert(x)"
   ]
  },
  {
   "cell_type": "code",
   "execution_count": null,
   "id": "5e5173c0",
   "metadata": {},
   "outputs": [],
   "source": []
  }
 ],
 "metadata": {
  "kernelspec": {
   "display_name": "Python 3 (ipykernel)",
   "language": "python",
   "name": "python3"
  },
  "language_info": {
   "codemirror_mode": {
    "name": "ipython",
    "version": 3
   },
   "file_extension": ".py",
   "mimetype": "text/x-python",
   "name": "python",
   "nbconvert_exporter": "python",
   "pygments_lexer": "ipython3",
   "version": "3.8.10"
  }
 },
 "nbformat": 4,
 "nbformat_minor": 5
}
